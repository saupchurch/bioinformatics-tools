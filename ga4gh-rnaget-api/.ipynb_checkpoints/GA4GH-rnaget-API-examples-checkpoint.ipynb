{
 "cells": [
  {
   "cell_type": "code",
   "execution_count": 1,
   "metadata": {},
   "outputs": [],
   "source": [
    "import requests\n",
    "import loompy"
   ]
  },
  {
   "cell_type": "markdown",
   "metadata": {},
   "source": [
    "### Set up server URL\n",
    "Change the URL here to point the client to other implementations of the api.  The examples here are based on the server running at:\n",
    "http://felcat.caltech.edu/rnaget"
   ]
  },
  {
   "cell_type": "code",
   "execution_count": 2,
   "metadata": {},
   "outputs": [
    {
     "data": {
      "text/plain": [
       "'\\nrnaget_url = \"https://genome.crg.cat/rnaget\"\\nproject_name = \"PCAWG\"\\nheaders = {\\'User-Agent\\': \\'python-requests/2.21.0\\',\\n           \\'Accept-Encoding\\': \\'gzip, deflate\\',\\n           \\'Accept\\': \\'*/*\\',\\n           \\'Connection\\': \\'keep-alive\\',\\n           \\'Authorization\\': \\'Bearer abcdefuvwxyz\\'}\\n'"
      ]
     },
     "execution_count": 2,
     "metadata": {},
     "output_type": "execute_result"
    }
   ],
   "source": [
    "# uncomment the following based on the target implementation\n",
    "\n",
    "# felcat.caltech.edu\n",
    "\n",
    "rnaget_url = \"http://felcat.caltech.edu/rnaget\"\n",
    "project_name = \"PCAWG\"\n",
    "headers = {'User-Agent': 'python-requests/2.21.0',\n",
    "           'Accept-Encoding': 'gzip, deflate',\n",
    "           'Accept': '*/*',\n",
    "           'Connection': 'keep-alive'}\n",
    "\n",
    "\n",
    "# server 2\n",
    "\"\"\"\n",
    "rnaget_url = \"https://genome.crg.cat/rnaget\"\n",
    "project_name = \"PCAWG\"\n",
    "headers = {'User-Agent': 'python-requests/2.21.0',\n",
    "           'Accept-Encoding': 'gzip, deflate',\n",
    "           'Accept': '*/*',\n",
    "           'Connection': 'keep-alive',\n",
    "           'Authorization': 'Bearer abcdefuvwxyz'}\n",
    "\"\"\""
   ]
  },
  {
   "cell_type": "markdown",
   "metadata": {},
   "source": [
    "### Project\n",
    "The demonstration dataset is the PCAWG dataset.  For security, return of all available results is not enabled.  To get the project we have to go through the search endpoint with a reasonable guess at the name."
   ]
  },
  {
   "cell_type": "code",
   "execution_count": 3,
   "metadata": {},
   "outputs": [],
   "source": [
    "payload = {\"name\": project_name}\n",
    "r = requests.get(\"{}/projects/search\".format(rnaget_url), params=payload, headers=headers)"
   ]
  },
  {
   "cell_type": "markdown",
   "metadata": {},
   "source": [
    "The response is a json object"
   ]
  },
  {
   "cell_type": "code",
   "execution_count": 4,
   "metadata": {},
   "outputs": [
    {
     "data": {
      "text/plain": [
       "[{'tags': '[<Tag PCAWG>]',\n",
       "  'id': 'c35765a1aaf047cd9a8cab48856caf3e',\n",
       "  'version': '1.0',\n",
       "  'name': 'PCAWG',\n",
       "  'description': 'PCAWG demo dataset'}]"
      ]
     },
     "execution_count": 4,
     "metadata": {},
     "output_type": "execute_result"
    }
   ],
   "source": [
    "r.json()"
   ]
  },
  {
   "cell_type": "markdown",
   "metadata": {},
   "source": [
    "Here we extract the project ID.  With this we can drill down through the hierarchy and get related entries."
   ]
  },
  {
   "cell_type": "code",
   "execution_count": 5,
   "metadata": {},
   "outputs": [
    {
     "data": {
      "text/plain": [
       "'c35765a1aaf047cd9a8cab48856caf3e'"
      ]
     },
     "execution_count": 5,
     "metadata": {},
     "output_type": "execute_result"
    }
   ],
   "source": [
    "pcawg_project_id = r.json()[0]['id']\n",
    "pcawg_project_id"
   ]
  },
  {
   "cell_type": "markdown",
   "metadata": {},
   "source": [
    "### Study\n",
    "With the PCAWG project ID, we can get the related study.  We use the same technique to extract the study ID."
   ]
  },
  {
   "cell_type": "code",
   "execution_count": 6,
   "metadata": {},
   "outputs": [
    {
     "data": {
      "text/plain": [
       "'16ce52c869b24d758a0feceac591e141'"
      ]
     },
     "execution_count": 6,
     "metadata": {},
     "output_type": "execute_result"
    }
   ],
   "source": [
    "payload = {\"projectID\": pcawg_project_id}\n",
    "r = requests.get(\"{}/studies/search\".format(rnaget_url), params=payload)\n",
    "pcawg_study_id = r.json()[0]['id']\n",
    "pcawg_study_id"
   ]
  },
  {
   "cell_type": "markdown",
   "metadata": {},
   "source": [
    "### Expression\n",
    "With the study ID we can get the related expression objects.  This can now be used to get the URL to download the matrix."
   ]
  },
  {
   "cell_type": "code",
   "execution_count": 7,
   "metadata": {},
   "outputs": [
    {
     "data": {
      "text/plain": [
       "[{'id': '0f53f1ceddaa48bd913ef56ec3ba2f6e',\n",
       "  'URL': 'http://woldlab.caltech.edu/~sau/rnaget/E-MTAB-5423-query-results.tpms.loom',\n",
       "  'file_type': 'loom',\n",
       "  'study_id': '16ce52c869b24d758a0feceac591e141'}]"
      ]
     },
     "execution_count": 7,
     "metadata": {},
     "output_type": "execute_result"
    }
   ],
   "source": [
    "payload = {\"studyID\": pcawg_study_id}\n",
    "r = requests.get(\"{}/expressions/search\".format(rnaget_url), params=payload)\n",
    "r.json()"
   ]
  },
  {
   "cell_type": "code",
   "execution_count": 8,
   "metadata": {},
   "outputs": [
    {
     "name": "stdout",
     "output_type": "stream",
     "text": [
      "http://woldlab.caltech.edu/~sau/rnaget/E-MTAB-5423-query-results.tpms.loom\n"
     ]
    }
   ],
   "source": [
    "matrix_url = r.json()[0]['URL']\n",
    "print(matrix_url)"
   ]
  },
  {
   "cell_type": "markdown",
   "metadata": {},
   "source": [
    "### The loom file\n",
    "Now that we have the URL we can stream it to a local file.\n",
    "(This step might take a few moments (approx 10-15 sec for my connection) as we are downloading the entire PCAWG expression matrix)"
   ]
  },
  {
   "cell_type": "code",
   "execution_count": 9,
   "metadata": {},
   "outputs": [],
   "source": [
    "# static name for download of PCAWG example dataset\n",
    "pcawg_loom_file = \"full-loom-file.loom\""
   ]
  },
  {
   "cell_type": "code",
   "execution_count": 10,
   "metadata": {},
   "outputs": [],
   "source": [
    "r = requests.get(matrix_url, stream=True)\n",
    "with open(pcawg_loom_file, 'wb') as fd:\n",
    "    for chunk in r.iter_content(chunk_size=128):\n",
    "        fd.write(chunk)"
   ]
  },
  {
   "cell_type": "markdown",
   "metadata": {},
   "source": [
    "A quick look at the loom file:"
   ]
  },
  {
   "cell_type": "code",
   "execution_count": 11,
   "metadata": {},
   "outputs": [],
   "source": [
    "ds = loompy.connect(pcawg_loom_file)"
   ]
  },
  {
   "cell_type": "code",
   "execution_count": 12,
   "metadata": {},
   "outputs": [
    {
     "data": {
      "text/plain": [
       "(56717, 1350)"
      ]
     },
     "execution_count": 12,
     "metadata": {},
     "output_type": "execute_result"
    }
   ],
   "source": [
    "ds.shape"
   ]
  },
  {
   "cell_type": "code",
   "execution_count": 13,
   "metadata": {},
   "outputs": [
    {
     "data": {
      "text/plain": [
       "['Condition', 'Sample', 'Tissue']"
      ]
     },
     "execution_count": 13,
     "metadata": {},
     "output_type": "execute_result"
    }
   ],
   "source": [
    "ds.ca.keys()"
   ]
  },
  {
   "cell_type": "code",
   "execution_count": 14,
   "metadata": {},
   "outputs": [
    {
     "data": {
      "text/plain": [
       "array(['DO221123 - primary tumour', 'DO221124 - primary tumour',\n",
       "       'DO221127 - primary tumour', ..., 'DO27588 - primary tumour',\n",
       "       'DO27636 - primary tumour', 'DO27747 - primary tumour'],\n",
       "      dtype=object)"
      ]
     },
     "execution_count": 14,
     "metadata": {},
     "output_type": "execute_result"
    }
   ],
   "source": [
    "ds.ca['Sample']"
   ]
  },
  {
   "cell_type": "code",
   "execution_count": 15,
   "metadata": {},
   "outputs": [
    {
     "data": {
      "text/plain": [
       "['GeneID', 'GeneName']"
      ]
     },
     "execution_count": 15,
     "metadata": {},
     "output_type": "execute_result"
    }
   ],
   "source": [
    "ds.ra.keys()"
   ]
  },
  {
   "cell_type": "code",
   "execution_count": 16,
   "metadata": {},
   "outputs": [
    {
     "data": {
      "text/plain": [
       "array(['TSPAN6', 'TNMD', 'DPM1', ..., 'AC008264.2', 'AP000229.1',\n",
       "       'AC098479.1'], dtype=object)"
      ]
     },
     "execution_count": 16,
     "metadata": {},
     "output_type": "execute_result"
    }
   ],
   "source": [
    "ds.ra['GeneName']"
   ]
  },
  {
   "cell_type": "markdown",
   "metadata": {},
   "source": [
    "### Slicing the loom file\n",
    "A useful operation is the slice the loom file.  This can be done by passing the ID of the study along with the row and/or columns to return."
   ]
  },
  {
   "cell_type": "code",
   "execution_count": 17,
   "metadata": {},
   "outputs": [
    {
     "data": {
      "text/plain": [
       "'http://woldlab.caltech.edu/~sau/rnaget/e361b762b6544ba7a7b15f2ce7c3172f_filtered_loom.loom'"
      ]
     },
     "execution_count": 17,
     "metadata": {},
     "output_type": "execute_result"
    }
   ],
   "source": [
    "payload = {\"studyID\": pcawg_study_id,\n",
    "           \"featureNameList\": \"TSPAN6\"}\n",
    "r = requests.get(\"{}/expressions/search\".format(rnaget_url), params=payload)\n",
    "tspan_matrix_url = r.json()[0]['URL']\n",
    "tspan_matrix_url"
   ]
  },
  {
   "cell_type": "markdown",
   "metadata": {},
   "source": [
    "Download it and verify that the matrix was sliced."
   ]
  },
  {
   "cell_type": "code",
   "execution_count": 18,
   "metadata": {},
   "outputs": [],
   "source": [
    "feature_loom_name = 'tspan-loom-file.loom'"
   ]
  },
  {
   "cell_type": "code",
   "execution_count": 19,
   "metadata": {},
   "outputs": [],
   "source": [
    "r = requests.get(tspan_matrix_url, stream=True)\n",
    "with open(feature_loom_name, 'wb') as fd:\n",
    "    for chunk in r.iter_content(chunk_size=128):\n",
    "        fd.write(chunk)"
   ]
  },
  {
   "cell_type": "code",
   "execution_count": 20,
   "metadata": {},
   "outputs": [],
   "source": [
    "ds2 = loompy.connect(feature_loom_name)"
   ]
  },
  {
   "cell_type": "code",
   "execution_count": 21,
   "metadata": {},
   "outputs": [
    {
     "data": {
      "text/plain": [
       "(1, 1350)"
      ]
     },
     "execution_count": 21,
     "metadata": {},
     "output_type": "execute_result"
    }
   ],
   "source": [
    "ds2.shape"
   ]
  },
  {
   "cell_type": "code",
   "execution_count": 22,
   "metadata": {},
   "outputs": [
    {
     "data": {
      "text/plain": [
       "array(['TSPAN6'], dtype=object)"
      ]
     },
     "execution_count": 22,
     "metadata": {},
     "output_type": "execute_result"
    }
   ],
   "source": [
    "ds2.ra['GeneName']"
   ]
  },
  {
   "cell_type": "markdown",
   "metadata": {},
   "source": [
    "We can also select multiple features"
   ]
  },
  {
   "cell_type": "code",
   "execution_count": 23,
   "metadata": {},
   "outputs": [
    {
     "data": {
      "text/plain": [
       "'http://woldlab.caltech.edu/~sau/rnaget/14329d0cb4a14a5e84309f8965b0c463_filtered_loom.loom'"
      ]
     },
     "execution_count": 23,
     "metadata": {},
     "output_type": "execute_result"
    }
   ],
   "source": [
    "payload = {\"studyID\": pcawg_study_id,\n",
    "           \"featureNameList\": \"TSPAN6,DPM1\"}\n",
    "r = requests.get(\"{}/expressions/search\".format(rnaget_url), params=payload)\n",
    "multi_slice_matrix_url = r.json()[0]['URL']\n",
    "multi_slice_matrix_url"
   ]
  },
  {
   "cell_type": "code",
   "execution_count": 24,
   "metadata": {},
   "outputs": [],
   "source": [
    "multi_feature_loom_name = \"sliced-loom.loom\""
   ]
  },
  {
   "cell_type": "code",
   "execution_count": 25,
   "metadata": {},
   "outputs": [],
   "source": [
    "r = requests.get(multi_slice_matrix_url, stream=True)\n",
    "with open(multi_feature_loom_name, 'wb') as fd:\n",
    "    for chunk in r.iter_content(chunk_size=128):\n",
    "        fd.write(chunk)"
   ]
  },
  {
   "cell_type": "code",
   "execution_count": 26,
   "metadata": {},
   "outputs": [
    {
     "data": {
      "text/plain": [
       "array(['TSPAN6', 'DPM1'], dtype=object)"
      ]
     },
     "execution_count": 26,
     "metadata": {},
     "output_type": "execute_result"
    }
   ],
   "source": [
    "ds3 = loompy.connect(multi_feature_loom_name)\n",
    "ds3.ra['GeneName']"
   ]
  },
  {
   "cell_type": "markdown",
   "metadata": {},
   "source": [
    "the same thing on the sample axis"
   ]
  },
  {
   "cell_type": "code",
   "execution_count": 27,
   "metadata": {},
   "outputs": [
    {
     "data": {
      "text/plain": [
       "'http://woldlab.caltech.edu/~sau/rnaget/E-MTAB-5423-query-results.tpms.loom'"
      ]
     },
     "execution_count": 27,
     "metadata": {},
     "output_type": "execute_result"
    }
   ],
   "source": [
    "payload = {\"studyID\": pcawg_study_id,\n",
    "           \"sampleID\": \"DO221124 - primary tumour\"}\n",
    "r = requests.get(\"{}/expressions/search\".format(rnaget_url), params=payload)\n",
    "DO221124_matrix_url = r.json()[0]['URL']\n",
    "DO221124_matrix_url"
   ]
  },
  {
   "cell_type": "code",
   "execution_count": 28,
   "metadata": {},
   "outputs": [],
   "source": [
    "sample_loom_name = \"221124-loom-file.loom\""
   ]
  },
  {
   "cell_type": "code",
   "execution_count": 29,
   "metadata": {},
   "outputs": [],
   "source": [
    "r = requests.get(DO221124_matrix_url, stream=True)\n",
    "with open(sample_loom_name, 'wb') as fd:\n",
    "    for chunk in r.iter_content(chunk_size=128):\n",
    "        fd.write(chunk)"
   ]
  },
  {
   "cell_type": "code",
   "execution_count": 30,
   "metadata": {},
   "outputs": [],
   "source": [
    "ds4 = loompy.connect(sample_loom_name)"
   ]
  },
  {
   "cell_type": "code",
   "execution_count": 31,
   "metadata": {},
   "outputs": [
    {
     "data": {
      "text/plain": [
       "(56717, 1350)"
      ]
     },
     "execution_count": 31,
     "metadata": {},
     "output_type": "execute_result"
    }
   ],
   "source": [
    "ds4.shape"
   ]
  },
  {
   "cell_type": "code",
   "execution_count": 32,
   "metadata": {},
   "outputs": [
    {
     "data": {
      "text/plain": [
       "array(['DO221123 - primary tumour', 'DO221124 - primary tumour',\n",
       "       'DO221127 - primary tumour', ..., 'DO27588 - primary tumour',\n",
       "       'DO27636 - primary tumour', 'DO27747 - primary tumour'],\n",
       "      dtype=object)"
      ]
     },
     "execution_count": 32,
     "metadata": {},
     "output_type": "execute_result"
    }
   ],
   "source": [
    "ds4.ca['Sample']"
   ]
  },
  {
   "cell_type": "code",
   "execution_count": 33,
   "metadata": {},
   "outputs": [
    {
     "data": {
      "text/plain": [
       "array(['TSPAN6', 'TNMD', 'DPM1'], dtype=object)"
      ]
     },
     "execution_count": 33,
     "metadata": {},
     "output_type": "execute_result"
    }
   ],
   "source": [
    "ds4.ra['GeneName'][:3]"
   ]
  },
  {
   "cell_type": "code",
   "execution_count": null,
   "metadata": {},
   "outputs": [],
   "source": []
  }
 ],
 "metadata": {
  "kernelspec": {
   "display_name": "Python 3",
   "language": "python",
   "name": "python3"
  },
  "language_info": {
   "codemirror_mode": {
    "name": "ipython",
    "version": 3
   },
   "file_extension": ".py",
   "mimetype": "text/x-python",
   "name": "python",
   "nbconvert_exporter": "python",
   "pygments_lexer": "ipython3",
   "version": "3.6.1"
  }
 },
 "nbformat": 4,
 "nbformat_minor": 2
}

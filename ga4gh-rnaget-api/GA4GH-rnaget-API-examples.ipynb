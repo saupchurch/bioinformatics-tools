{
 "cells": [
  {
   "cell_type": "code",
   "execution_count": 1,
   "metadata": {},
   "outputs": [],
   "source": [
    "import requests\n",
    "import loompy"
   ]
  },
  {
   "cell_type": "markdown",
   "metadata": {},
   "source": [
    "### Set up server URL\n",
    "Change the URL here to point the client to other implementations of the api.  The examples here are based on the server running at:\n",
    "http://felcat.caltech.edu/rnaget"
   ]
  },
  {
   "cell_type": "code",
   "execution_count": 3,
   "metadata": {},
   "outputs": [],
   "source": [
    "# uncomment the following based on the target implementation\n",
    "\n",
    "# felcat.caltech.edu\n",
    "\n",
    "#rnaget_url = \"http://felcat.caltech.edu/rnaget\"\n",
    "#project_tag = \"PCAWG\"\n",
    "#headers = {'User-Agent': 'python-requests/2.21.0',\n",
    "#           'Accept-Encoding': 'gzip, deflate',\n",
    "#           'Accept': '*/*',\n",
    "#           'Connection': 'keep-alive'}\n",
    "\n",
    "\n",
    "# server 2\n",
    "rnaget_url = \"https://genome.crg.cat/rnaget\"\n",
    "project_tag = \"cancer\"\n",
    "headers = {'User-Agent': 'python-requests/2.21.0',\n",
    "           'Accept-Encoding': 'gzip, deflate',\n",
    "           'Accept': '*/*',\n",
    "           'Connection': 'keep-alive',\n",
    "           'Authorization': 'Bearer abcdefuvwxyz'}"
   ]
  },
  {
   "cell_type": "markdown",
   "metadata": {},
   "source": [
    "### Project\n",
    "The demonstration dataset is the PCAWG dataset.  For security, return of all available results is not enabled.  To get the project we have to go through the search endpoint with a reasonable guess at the tag."
   ]
  },
  {
   "cell_type": "code",
   "execution_count": 4,
   "metadata": {},
   "outputs": [],
   "source": [
    "payload = {\"tags\": project_tag}\n",
    "r = requests.get(\"{}/projects/search\".format(rnaget_url), params=payload, headers=headers)"
   ]
  },
  {
   "cell_type": "markdown",
   "metadata": {},
   "source": [
    "The response is a json object"
   ]
  },
  {
   "cell_type": "code",
   "execution_count": 5,
   "metadata": {},
   "outputs": [
    {
     "data": {
      "text/plain": [
       "[{'description': 'The Pancancer Analysis of Whole Genomes (PCAWG) study is an international collaboration to identify common patterns of mutation in more than 2,800 cancer whole genomes from the International Cancer Genome Consortium.',\n",
       "  'id': 'E-MTAB-5200',\n",
       "  'name': 'Pancancer Analysis of Whole Genomes',\n",
       "  'tags': ['bulk', 'RNA-seq', 'human', 'cancer'],\n",
       "  'version': '1.0'},\n",
       " {'description': 'Single-Cell Analysis of Human Pancreas Reveals Transcriptional Signatures  of Aging and Somatic Mutation Patterns',\n",
       "  'id': 'E-GEOD-81547',\n",
       "  'name': 'Single cell transcriptome analysis of human pancreas',\n",
       "  'tags': ['single-cell', 'RNA-seq', 'human', 'cancer'],\n",
       "  'version': '1.0'}]"
      ]
     },
     "execution_count": 5,
     "metadata": {},
     "output_type": "execute_result"
    }
   ],
   "source": [
    "r.json()"
   ]
  },
  {
   "cell_type": "markdown",
   "metadata": {},
   "source": [
    "Here we extract the project ID.  With this we can drill down through the hierarchy and get related entries."
   ]
  },
  {
   "cell_type": "code",
   "execution_count": 6,
   "metadata": {},
   "outputs": [
    {
     "data": {
      "text/plain": [
       "'E-MTAB-5200'"
      ]
     },
     "execution_count": 6,
     "metadata": {},
     "output_type": "execute_result"
    }
   ],
   "source": [
    "pcawg_project_id = r.json()[0]['id']\n",
    "pcawg_project_id"
   ]
  },
  {
   "cell_type": "markdown",
   "metadata": {},
   "source": [
    "### Study\n",
    "With the PCAWG project ID, we can get the related study.  We use the same technique to extract the study ID."
   ]
  },
  {
   "cell_type": "code",
   "execution_count": 9,
   "metadata": {},
   "outputs": [
    {
     "data": {
      "text/plain": [
       "'E-MTAB-5200-ST0'"
      ]
     },
     "execution_count": 9,
     "metadata": {},
     "output_type": "execute_result"
    }
   ],
   "source": [
    "payload = {\"projectID\": pcawg_project_id}\n",
    "r = requests.get(\"{}/studies/search\".format(rnaget_url), params=payload, headers=headers)\n",
    "pcawg_study_id = r.json()[0]['id']\n",
    "pcawg_study_id"
   ]
  },
  {
   "cell_type": "markdown",
   "metadata": {},
   "source": [
    "### Expression\n",
    "With the study ID we can get the related expression objects.  This can now be used to get the URL to download the matrix."
   ]
  },
  {
   "cell_type": "code",
   "execution_count": 10,
   "metadata": {},
   "outputs": [
    {
     "data": {
      "text/plain": [
       "[{'URL': 'https://genome.crg.cat/rnaget/data/E-MTAB-5200.tpms.tsv',\n",
       "  'fileType': 'tsv',\n",
       "  'id': '8beada7b93d5e55aa557138b39c6f930',\n",
       "  'studyID': 'E-MTAB-5200-ST0',\n",
       "  'tags': ['bulk', 'cancer', 'human', 'RNA-seq']}]"
      ]
     },
     "execution_count": 10,
     "metadata": {},
     "output_type": "execute_result"
    }
   ],
   "source": [
    "payload = {\"studyID\": pcawg_study_id}\n",
    "r = requests.get(\"{}/expressions/search\".format(rnaget_url), params=payload, headers=headers)\n",
    "r.json()"
   ]
  },
  {
   "cell_type": "code",
   "execution_count": 11,
   "metadata": {},
   "outputs": [
    {
     "name": "stdout",
     "output_type": "stream",
     "text": [
      "https://genome.crg.cat/rnaget/data/E-MTAB-5200.tpms.tsv\n"
     ]
    }
   ],
   "source": [
    "matrix_url = r.json()[0]['URL']\n",
    "print(matrix_url)"
   ]
  },
  {
   "cell_type": "markdown",
   "metadata": {},
   "source": [
    "## Working with the files\n",
    "With the download URL we can stream the expression file to a local file and run whatever downstream amalysis we wish.  The following are some simple navigation examples.\n",
    "\n",
    "The felcat.caltech.edu server is serving files in loom format.  To explore these proceed to **The loom file** below.\n",
    "\n",
    "The genome.crg.cat server is serving files in tsv format.  To explore these proceed to **The tsv file** below"
   ]
  },
  {
   "cell_type": "markdown",
   "metadata": {},
   "source": [
    "### The loom file\n",
    "Now that we have the URL we can stream it to a local file.  The felcat server is providing a loom file so the loompy package can be used to explore it.\n",
    "\n",
    "(This step might take a few moments (approx 10-15 sec for my connection) as we are downloading the entire PCAWG expression matrix)"
   ]
  },
  {
   "cell_type": "code",
   "execution_count": 9,
   "metadata": {},
   "outputs": [],
   "source": [
    "# static name for download of PCAWG example dataset\n",
    "pcawg_loom_file = \"full-loom-file.loom\""
   ]
  },
  {
   "cell_type": "code",
   "execution_count": 10,
   "metadata": {},
   "outputs": [],
   "source": [
    "r = requests.get(matrix_url, stream=True)\n",
    "with open(pcawg_loom_file, 'wb') as fd:\n",
    "    for chunk in r.iter_content(chunk_size=128):\n",
    "        fd.write(chunk)"
   ]
  },
  {
   "cell_type": "markdown",
   "metadata": {},
   "source": [
    "A quick look at the loom file:"
   ]
  },
  {
   "cell_type": "code",
   "execution_count": 11,
   "metadata": {},
   "outputs": [],
   "source": [
    "ds = loompy.connect(pcawg_loom_file)"
   ]
  },
  {
   "cell_type": "code",
   "execution_count": 12,
   "metadata": {},
   "outputs": [
    {
     "data": {
      "text/plain": [
       "(56717, 1350)"
      ]
     },
     "execution_count": 12,
     "metadata": {},
     "output_type": "execute_result"
    }
   ],
   "source": [
    "ds.shape"
   ]
  },
  {
   "cell_type": "code",
   "execution_count": 13,
   "metadata": {},
   "outputs": [
    {
     "data": {
      "text/plain": [
       "['Condition', 'Sample', 'Tissue']"
      ]
     },
     "execution_count": 13,
     "metadata": {},
     "output_type": "execute_result"
    }
   ],
   "source": [
    "ds.ca.keys()"
   ]
  },
  {
   "cell_type": "code",
   "execution_count": 14,
   "metadata": {},
   "outputs": [
    {
     "data": {
      "text/plain": [
       "array(['DO221123 - primary tumour', 'DO221124 - primary tumour',\n",
       "       'DO221127 - primary tumour', ..., 'DO27588 - primary tumour',\n",
       "       'DO27636 - primary tumour', 'DO27747 - primary tumour'],\n",
       "      dtype=object)"
      ]
     },
     "execution_count": 14,
     "metadata": {},
     "output_type": "execute_result"
    }
   ],
   "source": [
    "ds.ca['Sample']"
   ]
  },
  {
   "cell_type": "code",
   "execution_count": 15,
   "metadata": {},
   "outputs": [
    {
     "data": {
      "text/plain": [
       "['GeneID', 'GeneName']"
      ]
     },
     "execution_count": 15,
     "metadata": {},
     "output_type": "execute_result"
    }
   ],
   "source": [
    "ds.ra.keys()"
   ]
  },
  {
   "cell_type": "code",
   "execution_count": 16,
   "metadata": {},
   "outputs": [
    {
     "data": {
      "text/plain": [
       "array(['TSPAN6', 'TNMD', 'DPM1', ..., 'AC008264.2', 'AP000229.1',\n",
       "       'AC098479.1'], dtype=object)"
      ]
     },
     "execution_count": 16,
     "metadata": {},
     "output_type": "execute_result"
    }
   ],
   "source": [
    "ds.ra['GeneName']"
   ]
  },
  {
   "cell_type": "markdown",
   "metadata": {},
   "source": [
    "### Slicing the loom file\n",
    "A useful operation is the slice the loom file.  This can be done by passing the ID of the study along with the row and/or columns to return."
   ]
  },
  {
   "cell_type": "code",
   "execution_count": 17,
   "metadata": {},
   "outputs": [
    {
     "data": {
      "text/plain": [
       "'http://woldlab.caltech.edu/~sau/rnaget/e361b762b6544ba7a7b15f2ce7c3172f_filtered_loom.loom'"
      ]
     },
     "execution_count": 17,
     "metadata": {},
     "output_type": "execute_result"
    }
   ],
   "source": [
    "payload = {\"studyID\": pcawg_study_id,\n",
    "           \"featureNameList\": \"TSPAN6\"}\n",
    "r = requests.get(\"{}/expressions/search\".format(rnaget_url), params=payload, headers=headers)\n",
    "tspan_matrix_url = r.json()[0]['URL']\n",
    "tspan_matrix_url"
   ]
  },
  {
   "cell_type": "markdown",
   "metadata": {},
   "source": [
    "Download it and verify that the matrix was sliced."
   ]
  },
  {
   "cell_type": "code",
   "execution_count": 18,
   "metadata": {},
   "outputs": [],
   "source": [
    "feature_loom_name = 'tspan-loom-file.loom'"
   ]
  },
  {
   "cell_type": "code",
   "execution_count": 19,
   "metadata": {},
   "outputs": [],
   "source": [
    "r = requests.get(tspan_matrix_url, stream=True, headers=headers)\n",
    "with open(feature_loom_name, 'wb') as fd:\n",
    "    for chunk in r.iter_content(chunk_size=128):\n",
    "        fd.write(chunk)"
   ]
  },
  {
   "cell_type": "code",
   "execution_count": 20,
   "metadata": {},
   "outputs": [],
   "source": [
    "ds2 = loompy.connect(feature_loom_name)"
   ]
  },
  {
   "cell_type": "code",
   "execution_count": 21,
   "metadata": {},
   "outputs": [
    {
     "data": {
      "text/plain": [
       "(1, 1350)"
      ]
     },
     "execution_count": 21,
     "metadata": {},
     "output_type": "execute_result"
    }
   ],
   "source": [
    "ds2.shape"
   ]
  },
  {
   "cell_type": "code",
   "execution_count": 22,
   "metadata": {},
   "outputs": [
    {
     "data": {
      "text/plain": [
       "array(['TSPAN6'], dtype=object)"
      ]
     },
     "execution_count": 22,
     "metadata": {},
     "output_type": "execute_result"
    }
   ],
   "source": [
    "ds2.ra['GeneName']"
   ]
  },
  {
   "cell_type": "markdown",
   "metadata": {},
   "source": [
    "We can also select multiple features"
   ]
  },
  {
   "cell_type": "code",
   "execution_count": 23,
   "metadata": {},
   "outputs": [
    {
     "data": {
      "text/plain": [
       "'http://woldlab.caltech.edu/~sau/rnaget/14329d0cb4a14a5e84309f8965b0c463_filtered_loom.loom'"
      ]
     },
     "execution_count": 23,
     "metadata": {},
     "output_type": "execute_result"
    }
   ],
   "source": [
    "payload = {\"studyID\": pcawg_study_id,\n",
    "           \"featureNameList\": \"TSPAN6,DPM1\"}\n",
    "r = requests.get(\"{}/expressions/search\".format(rnaget_url), params=payload, headers=headers)\n",
    "multi_slice_matrix_url = r.json()[0]['URL']\n",
    "multi_slice_matrix_url"
   ]
  },
  {
   "cell_type": "code",
   "execution_count": 24,
   "metadata": {},
   "outputs": [],
   "source": [
    "multi_feature_loom_name = \"sliced-loom.loom\""
   ]
  },
  {
   "cell_type": "code",
   "execution_count": 25,
   "metadata": {},
   "outputs": [],
   "source": [
    "r = requests.get(multi_slice_matrix_url, stream=True)\n",
    "with open(multi_feature_loom_name, 'wb') as fd:\n",
    "    for chunk in r.iter_content(chunk_size=128):\n",
    "        fd.write(chunk)"
   ]
  },
  {
   "cell_type": "code",
   "execution_count": 26,
   "metadata": {},
   "outputs": [
    {
     "data": {
      "text/plain": [
       "array(['TSPAN6', 'DPM1'], dtype=object)"
      ]
     },
     "execution_count": 26,
     "metadata": {},
     "output_type": "execute_result"
    }
   ],
   "source": [
    "ds3 = loompy.connect(multi_feature_loom_name)\n",
    "ds3.ra['GeneName']"
   ]
  },
  {
   "cell_type": "markdown",
   "metadata": {},
   "source": [
    "the same thing on the sample axis"
   ]
  },
  {
   "cell_type": "code",
   "execution_count": 27,
   "metadata": {},
   "outputs": [
    {
     "data": {
      "text/plain": [
       "'http://woldlab.caltech.edu/~sau/rnaget/E-MTAB-5423-query-results.tpms.loom'"
      ]
     },
     "execution_count": 27,
     "metadata": {},
     "output_type": "execute_result"
    }
   ],
   "source": [
    "payload = {\"studyID\": pcawg_study_id,\n",
    "           \"sampleID\": \"DO221124 - primary tumour\"}\n",
    "r = requests.get(\"{}/expressions/search\".format(rnaget_url), params=payload, headers=headers)\n",
    "DO221124_matrix_url = r.json()[0]['URL']\n",
    "DO221124_matrix_url"
   ]
  },
  {
   "cell_type": "code",
   "execution_count": 28,
   "metadata": {},
   "outputs": [],
   "source": [
    "sample_loom_name = \"221124-loom-file.loom\""
   ]
  },
  {
   "cell_type": "code",
   "execution_count": 29,
   "metadata": {},
   "outputs": [],
   "source": [
    "r = requests.get(DO221124_matrix_url, stream=True)\n",
    "with open(sample_loom_name, 'wb') as fd:\n",
    "    for chunk in r.iter_content(chunk_size=128):\n",
    "        fd.write(chunk)"
   ]
  },
  {
   "cell_type": "code",
   "execution_count": 30,
   "metadata": {},
   "outputs": [],
   "source": [
    "ds4 = loompy.connect(sample_loom_name)"
   ]
  },
  {
   "cell_type": "code",
   "execution_count": 31,
   "metadata": {},
   "outputs": [
    {
     "data": {
      "text/plain": [
       "(56717, 1350)"
      ]
     },
     "execution_count": 31,
     "metadata": {},
     "output_type": "execute_result"
    }
   ],
   "source": [
    "ds4.shape"
   ]
  },
  {
   "cell_type": "code",
   "execution_count": 32,
   "metadata": {},
   "outputs": [
    {
     "data": {
      "text/plain": [
       "array(['DO221123 - primary tumour', 'DO221124 - primary tumour',\n",
       "       'DO221127 - primary tumour', ..., 'DO27588 - primary tumour',\n",
       "       'DO27636 - primary tumour', 'DO27747 - primary tumour'],\n",
       "      dtype=object)"
      ]
     },
     "execution_count": 32,
     "metadata": {},
     "output_type": "execute_result"
    }
   ],
   "source": [
    "ds4.ca['Sample']"
   ]
  },
  {
   "cell_type": "code",
   "execution_count": 33,
   "metadata": {},
   "outputs": [
    {
     "data": {
      "text/plain": [
       "array(['TSPAN6', 'TNMD', 'DPM1'], dtype=object)"
      ]
     },
     "execution_count": 33,
     "metadata": {},
     "output_type": "execute_result"
    }
   ],
   "source": [
    "ds4.ra['GeneName'][:3]"
   ]
  },
  {
   "cell_type": "markdown",
   "metadata": {},
   "source": [
    "### The tsv file\n",
    "Now that we have the URL we can stream it to a local file.\n",
    "\n",
    "(This step might take a few moments (approx 2-3 minutes for my connection) as we are downloading the entire PCAWG expression matrix)"
   ]
  },
  {
   "cell_type": "code",
   "execution_count": 12,
   "metadata": {},
   "outputs": [],
   "source": [
    "# static name for download of PCAWG example dataset\n",
    "pcawg_tsv_file = \"full-tsv-file.tsv\""
   ]
  },
  {
   "cell_type": "code",
   "execution_count": 13,
   "metadata": {},
   "outputs": [],
   "source": [
    "r = requests.get(matrix_url, stream=True, headers=headers)\n",
    "with open(pcawg_tsv_file, 'w') as fd:\n",
    "    for chunk in r.iter_content(chunk_size=128):\n",
    "        fd.write(chunk)"
   ]
  },
  {
   "cell_type": "markdown",
   "metadata": {},
   "source": [
    "Let's take a look at the first few entries.  The tsv file has 4 header rows followed by the sample headings."
   ]
  },
  {
   "cell_type": "code",
   "execution_count": 18,
   "metadata": {},
   "outputs": [
    {
     "name": "stdout",
     "output_type": "stream",
     "text": [
      "['Gene ID', 'Gene Name', 'DO221123 - primary tumour, B-cell non-Hodgkin lymphoma, blood', 'DO221124 - primary tumour, B-cell non-Hodgkin lymphoma, blood']\n",
      "['ENSG00000000003', 'TSPAN6', '4.0', '5.0']\n",
      "['ENSG00000000005', 'TNMD', '', '0.4']\n",
      "['ENSG00000000419', 'DPM1', '154.0', '90.0']\n"
     ]
    }
   ],
   "source": [
    "with open(pcawg_tsv_file, 'r') as fd:\n",
    "    for i in range(4):\n",
    "        fd.readline()\n",
    "    samples = fd.readline()\n",
    "    print(samples.split('\\t')[:4])\n",
    "    for i in range(3):\n",
    "        print(fd.readline().split('\\t')[:4])\n",
    "    "
   ]
  },
  {
   "cell_type": "code",
   "execution_count": null,
   "metadata": {},
   "outputs": [],
   "source": []
  }
 ],
 "metadata": {
  "kernelspec": {
   "display_name": "Python 3",
   "language": "python",
   "name": "python3"
  },
  "language_info": {
   "codemirror_mode": {
    "name": "ipython",
    "version": 3
   },
   "file_extension": ".py",
   "mimetype": "text/x-python",
   "name": "python",
   "nbconvert_exporter": "python",
   "pygments_lexer": "ipython3",
   "version": "3.6.1"
  }
 },
 "nbformat": 4,
 "nbformat_minor": 2
}

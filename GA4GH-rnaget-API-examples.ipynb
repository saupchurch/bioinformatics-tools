{
 "cells": [
  {
   "cell_type": "code",
   "execution_count": 1,
   "metadata": {},
   "outputs": [],
   "source": [
    "import requests\n",
    "import loompy"
   ]
  },
  {
   "cell_type": "markdown",
   "metadata": {},
   "source": [
    "### Set up server URL\n",
    "Change the URL here to point the client to other implementations of the api.  The examples here are based on the server running at:\n",
    "http://felcat.caltech.edu/rnaget"
   ]
  },
  {
   "cell_type": "code",
   "execution_count": 2,
   "metadata": {},
   "outputs": [],
   "source": [
    "server_params = {'caltech-edu': {'rnaget_url': \"http://felcat.caltech.edu/rnaget\",\n",
    "                                 'project_tag': \"PCAWG\",\n",
    "                                 'headers': {'User-Agent': 'python-requests/2.21.0',\n",
    "                                             'Accept-Encoding': 'gzip, deflate',\n",
    "                                             'Accept': '*/*',\n",
    "                                             'Connection': 'keep-alive'}\n",
    "                                },\n",
    "                 'crg-cat': {'rnaget_url': \"https://genome.crg.cat/rnaget\",\n",
    "                             'project_tag': \"cancer\",\n",
    "                             'headers': {'User-Agent': 'python-requests/2.21.0',\n",
    "                                         'Accept-Encoding': 'gzip, deflate',\n",
    "                                         'Accept': '*/*',\n",
    "                                         'Connection': 'keep-alive',\n",
    "                                         'Authorization': 'Bearer abcdefuvwxyz'}\n",
    "                            }\n",
    "                }\n",
    "\n",
    "# use this to select the target server.  This should be the only knob to turn - everything\n",
    "# from here on should use the API\n",
    "rnaget_params = server_params['caltech-edu']"
   ]
  },
  {
   "cell_type": "markdown",
   "metadata": {},
   "source": [
    "### Project\n",
    "The demonstration dataset is the PCAWG dataset.  For security, return of all available results is not enabled.  To get the project we have to go through the search endpoint with a reasonable guess at the tag."
   ]
  },
  {
   "cell_type": "code",
   "execution_count": 3,
   "metadata": {},
   "outputs": [],
   "source": [
    "payload = {\"tags\": rnaget_params['project_tag']}\n",
    "r = requests.get(\"{}/projects\".format(rnaget_params['rnaget_url']), params=payload,\n",
    "                 headers=rnaget_params['headers'])"
   ]
  },
  {
   "cell_type": "markdown",
   "metadata": {},
   "source": [
    "The response is a json object"
   ]
  },
  {
   "cell_type": "code",
   "execution_count": 4,
   "metadata": {},
   "outputs": [
    {
     "data": {
      "text/plain": [
       "[{'tags': ['PCAWG', 'cancer'],\n",
       "  'version': '1.0',\n",
       "  'name': 'PCAWG',\n",
       "  'id': '43378a5d48364f9d8cf3c3d5104df560',\n",
       "  'description': 'Pan Cancer Analysis of Whole Genomes test data from Expression Atlas E-MTAB-5423'}]"
      ]
     },
     "execution_count": 4,
     "metadata": {},
     "output_type": "execute_result"
    }
   ],
   "source": [
    "r.json()"
   ]
  },
  {
   "cell_type": "markdown",
   "metadata": {},
   "source": [
    "Here we extract the project ID.  With this we can drill down through the hierarchy and get related entries."
   ]
  },
  {
   "cell_type": "code",
   "execution_count": 5,
   "metadata": {},
   "outputs": [
    {
     "data": {
      "text/plain": [
       "'43378a5d48364f9d8cf3c3d5104df560'"
      ]
     },
     "execution_count": 5,
     "metadata": {},
     "output_type": "execute_result"
    }
   ],
   "source": [
    "pcawg_project_id = r.json()[0]['id']\n",
    "pcawg_project_id"
   ]
  },
  {
   "cell_type": "markdown",
   "metadata": {},
   "source": [
    "### Study\n",
    "With the PCAWG project ID, we can get the related study.  We use the same technique to extract the study ID."
   ]
  },
  {
   "cell_type": "code",
   "execution_count": 6,
   "metadata": {},
   "outputs": [
    {
     "data": {
      "text/plain": [
       "'6cccbbd76b9c4837bd7342dd616d0fec'"
      ]
     },
     "execution_count": 6,
     "metadata": {},
     "output_type": "execute_result"
    }
   ],
   "source": [
    "payload = {\"projectID\": pcawg_project_id}\n",
    "r = requests.get(\"{}/studies\".format(rnaget_params['rnaget_url']), params=payload,\n",
    "                 headers=rnaget_params['headers'])\n",
    "pcawg_study_id = r.json()[0]['id']\n",
    "pcawg_study_id"
   ]
  },
  {
   "cell_type": "markdown",
   "metadata": {},
   "source": [
    "### Expression\n",
    "With the study ID we can get the related expression objects.  This can now be used to get the URL to download the matrix."
   ]
  },
  {
   "cell_type": "code",
   "execution_count": 7,
   "metadata": {},
   "outputs": [
    {
     "data": {
      "text/plain": [
       "{'tags': [],\n",
       " 'version': '1.0',\n",
       " 'fileType': 'loom',\n",
       " 'studyID': '6cccbbd76b9c4837bd7342dd616d0fec',\n",
       " 'units': 'TPM',\n",
       " 'url': 'http://woldlab.caltech.edu/~sau/rnaget/E-MTAB-5423-query-results.tpms.loom',\n",
       " 'id': '2a7ab5533ef941eaa59edbfe887b58c4'}"
      ]
     },
     "execution_count": 7,
     "metadata": {},
     "output_type": "execute_result"
    }
   ],
   "source": [
    "payload = {\"studyID\": pcawg_study_id, \"format\": \"loom\"}\n",
    "r = requests.get(\"{}/expressions/tickets\".format(rnaget_params['rnaget_url']), params=payload,\n",
    "                 headers=rnaget_params['headers'])\n",
    "r.json()"
   ]
  },
  {
   "cell_type": "code",
   "execution_count": 9,
   "metadata": {},
   "outputs": [
    {
     "name": "stdout",
     "output_type": "stream",
     "text": [
      "http://woldlab.caltech.edu/~sau/rnaget/E-MTAB-5423-query-results.tpms.loom\n"
     ]
    }
   ],
   "source": [
    "matrix_url = r.json()['url']\n",
    "print(matrix_url)"
   ]
  },
  {
   "cell_type": "markdown",
   "metadata": {},
   "source": [
    "## Working with the files\n",
    "With the download URL we can stream the expression file to a local file and run whatever downstream amalysis we wish.  The following are some simple navigation examples.\n",
    "\n",
    "The felcat.caltech.edu server is serving files in loom format.  To explore these proceed to **The loom file** below.\n",
    "\n",
    "The genome.crg.cat server is serving files in tsv format.  To explore these proceed to **The tsv file** below"
   ]
  },
  {
   "cell_type": "markdown",
   "metadata": {},
   "source": [
    "### The loom file\n",
    "Now that we have the URL we can stream it to a local file.  The felcat server is providing a loom file so the loompy package can be used to explore it.\n",
    "\n",
    "(This step might take a few moments (approx 10-15 sec for my connection) as we are downloading the entire PCAWG expression matrix)"
   ]
  },
  {
   "cell_type": "code",
   "execution_count": 10,
   "metadata": {},
   "outputs": [],
   "source": [
    "# static name for download of PCAWG example dataset\n",
    "pcawg_loom_file = \"full-loom-file.loom\""
   ]
  },
  {
   "cell_type": "code",
   "execution_count": 11,
   "metadata": {},
   "outputs": [],
   "source": [
    "r = requests.get(matrix_url, stream=True, headers=rnaget_params['headers'])\n",
    "with open(pcawg_loom_file, 'wb') as fd:\n",
    "    for chunk in r.iter_content(chunk_size=128):\n",
    "        fd.write(chunk)"
   ]
  },
  {
   "cell_type": "markdown",
   "metadata": {},
   "source": [
    "A quick look at the loom file:"
   ]
  },
  {
   "cell_type": "code",
   "execution_count": 12,
   "metadata": {},
   "outputs": [],
   "source": [
    "ds = loompy.connect(pcawg_loom_file)"
   ]
  },
  {
   "cell_type": "code",
   "execution_count": 13,
   "metadata": {},
   "outputs": [
    {
     "data": {
      "text/plain": [
       "(56717, 1350)"
      ]
     },
     "execution_count": 13,
     "metadata": {},
     "output_type": "execute_result"
    }
   ],
   "source": [
    "ds.shape"
   ]
  },
  {
   "cell_type": "code",
   "execution_count": 14,
   "metadata": {},
   "outputs": [
    {
     "data": {
      "text/plain": [
       "['Condition', 'Sample', 'Tissue']"
      ]
     },
     "execution_count": 14,
     "metadata": {},
     "output_type": "execute_result"
    }
   ],
   "source": [
    "ds.ca.keys()"
   ]
  },
  {
   "cell_type": "code",
   "execution_count": 15,
   "metadata": {},
   "outputs": [
    {
     "data": {
      "text/plain": [
       "array(['DO221123 - primary tumour', 'DO221124 - primary tumour',\n",
       "       'DO221127 - primary tumour', ..., 'DO27588 - primary tumour',\n",
       "       'DO27636 - primary tumour', 'DO27747 - primary tumour'],\n",
       "      dtype=object)"
      ]
     },
     "execution_count": 15,
     "metadata": {},
     "output_type": "execute_result"
    }
   ],
   "source": [
    "ds.ca['Sample']"
   ]
  },
  {
   "cell_type": "code",
   "execution_count": 16,
   "metadata": {},
   "outputs": [
    {
     "data": {
      "text/plain": [
       "['GeneID', 'GeneName']"
      ]
     },
     "execution_count": 16,
     "metadata": {},
     "output_type": "execute_result"
    }
   ],
   "source": [
    "ds.ra.keys()"
   ]
  },
  {
   "cell_type": "code",
   "execution_count": 17,
   "metadata": {},
   "outputs": [
    {
     "data": {
      "text/plain": [
       "array(['TSPAN6', 'TNMD', 'DPM1', ..., 'AC008264.2', 'AP000229.1',\n",
       "       'AC098479.1'], dtype=object)"
      ]
     },
     "execution_count": 17,
     "metadata": {},
     "output_type": "execute_result"
    }
   ],
   "source": [
    "ds.ra['GeneName']"
   ]
  },
  {
   "cell_type": "markdown",
   "metadata": {},
   "source": [
    "### Slicing the loom file\n",
    "A useful operation is the slice the loom file.  This can be done by passing the ID of the study along with the row and/or columns to return."
   ]
  },
  {
   "cell_type": "code",
   "execution_count": 18,
   "metadata": {},
   "outputs": [
    {
     "data": {
      "text/plain": [
       "'https://woldlab.caltech.edu/~sau/rnaget/98500efecd8c465fb542e908eb5ec0b0_filtered_loom.loom'"
      ]
     },
     "execution_count": 18,
     "metadata": {},
     "output_type": "execute_result"
    }
   ],
   "source": [
    "payload = {\"studyID\": pcawg_study_id,\n",
    "           \"format\": \"loom\",\n",
    "           \"featureNameList\": \"TSPAN6\"}\n",
    "r = requests.get(\"{}/expressions/tickets\".format(rnaget_params['rnaget_url']), params=payload,\n",
    "                 headers=rnaget_params['headers'])\n",
    "tspan_matrix_url = r.json()['url']\n",
    "tspan_matrix_url"
   ]
  },
  {
   "cell_type": "markdown",
   "metadata": {},
   "source": [
    "Download it and verify that the matrix was sliced."
   ]
  },
  {
   "cell_type": "code",
   "execution_count": 19,
   "metadata": {},
   "outputs": [],
   "source": [
    "feature_loom_name = 'tspan-loom-file.loom'"
   ]
  },
  {
   "cell_type": "code",
   "execution_count": 20,
   "metadata": {},
   "outputs": [],
   "source": [
    "r = requests.get(tspan_matrix_url, stream=True, headers=rnaget_params['headers'])\n",
    "with open(feature_loom_name, 'wb') as fd:\n",
    "    for chunk in r.iter_content(chunk_size=128):\n",
    "        fd.write(chunk)"
   ]
  },
  {
   "cell_type": "code",
   "execution_count": 21,
   "metadata": {},
   "outputs": [],
   "source": [
    "ds2 = loompy.connect(feature_loom_name)"
   ]
  },
  {
   "cell_type": "code",
   "execution_count": 22,
   "metadata": {},
   "outputs": [
    {
     "data": {
      "text/plain": [
       "(1, 1350)"
      ]
     },
     "execution_count": 22,
     "metadata": {},
     "output_type": "execute_result"
    }
   ],
   "source": [
    "ds2.shape"
   ]
  },
  {
   "cell_type": "code",
   "execution_count": 23,
   "metadata": {},
   "outputs": [
    {
     "data": {
      "text/plain": [
       "array(['TSPAN6'], dtype=object)"
      ]
     },
     "execution_count": 23,
     "metadata": {},
     "output_type": "execute_result"
    }
   ],
   "source": [
    "ds2.ra['GeneName']"
   ]
  },
  {
   "cell_type": "markdown",
   "metadata": {},
   "source": [
    "We can also select multiple features"
   ]
  },
  {
   "cell_type": "code",
   "execution_count": 24,
   "metadata": {},
   "outputs": [
    {
     "data": {
      "text/plain": [
       "'https://woldlab.caltech.edu/~sau/rnaget/425f98d741ff44bdb5d2d100a926d159_filtered_loom.loom'"
      ]
     },
     "execution_count": 24,
     "metadata": {},
     "output_type": "execute_result"
    }
   ],
   "source": [
    "payload = {\"studyID\": pcawg_study_id,\n",
    "           \"format\": \"loom\",\n",
    "           \"featureNameList\": \"TSPAN6,DPM1\"}\n",
    "r = requests.get(\"{}/expressions/tickets\".format(rnaget_params['rnaget_url']), params=payload,\n",
    "                 headers=rnaget_params['headers'])\n",
    "multi_slice_matrix_url = r.json()['url']\n",
    "multi_slice_matrix_url"
   ]
  },
  {
   "cell_type": "code",
   "execution_count": 25,
   "metadata": {},
   "outputs": [],
   "source": [
    "multi_feature_loom_name = \"sliced-loom.loom\""
   ]
  },
  {
   "cell_type": "code",
   "execution_count": 26,
   "metadata": {},
   "outputs": [],
   "source": [
    "r = requests.get(multi_slice_matrix_url, stream=True)\n",
    "with open(multi_feature_loom_name, 'wb') as fd:\n",
    "    for chunk in r.iter_content(chunk_size=128):\n",
    "        fd.write(chunk)"
   ]
  },
  {
   "cell_type": "code",
   "execution_count": 27,
   "metadata": {},
   "outputs": [
    {
     "data": {
      "text/plain": [
       "array(['TSPAN6', 'DPM1'], dtype=object)"
      ]
     },
     "execution_count": 27,
     "metadata": {},
     "output_type": "execute_result"
    }
   ],
   "source": [
    "ds3 = loompy.connect(multi_feature_loom_name)\n",
    "ds3.ra['GeneName']"
   ]
  },
  {
   "cell_type": "markdown",
   "metadata": {},
   "source": [
    "the same thing on the sample axis"
   ]
  },
  {
   "cell_type": "code",
   "execution_count": 28,
   "metadata": {},
   "outputs": [
    {
     "data": {
      "text/plain": [
       "'https://woldlab.caltech.edu/~sau/rnaget/91dc3ebc2bf2428fb69b0809f7b66a92_filtered_loom.loom'"
      ]
     },
     "execution_count": 28,
     "metadata": {},
     "output_type": "execute_result"
    }
   ],
   "source": [
    "payload = {\"studyID\": pcawg_study_id,\n",
    "           \"format\": \"loom\",\n",
    "           \"sampleIDList\": \"DO221124 - primary tumour\"}\n",
    "r = requests.get(\"{}/expressions/tickets\".format(rnaget_params['rnaget_url']), params=payload,\n",
    "                 headers=rnaget_params['headers'])\n",
    "DO221124_matrix_url = r.json()['url']\n",
    "DO221124_matrix_url"
   ]
  },
  {
   "cell_type": "code",
   "execution_count": 29,
   "metadata": {},
   "outputs": [],
   "source": [
    "sample_loom_name = \"221124-loom-file.loom\""
   ]
  },
  {
   "cell_type": "code",
   "execution_count": 30,
   "metadata": {},
   "outputs": [],
   "source": [
    "r = requests.get(DO221124_matrix_url, stream=True)\n",
    "with open(sample_loom_name, 'wb') as fd:\n",
    "    for chunk in r.iter_content(chunk_size=128):\n",
    "        fd.write(chunk)"
   ]
  },
  {
   "cell_type": "code",
   "execution_count": 31,
   "metadata": {},
   "outputs": [],
   "source": [
    "ds4 = loompy.connect(sample_loom_name)"
   ]
  },
  {
   "cell_type": "code",
   "execution_count": 32,
   "metadata": {},
   "outputs": [
    {
     "data": {
      "text/plain": [
       "(56717, 1)"
      ]
     },
     "execution_count": 32,
     "metadata": {},
     "output_type": "execute_result"
    }
   ],
   "source": [
    "ds4.shape"
   ]
  },
  {
   "cell_type": "code",
   "execution_count": 33,
   "metadata": {},
   "outputs": [
    {
     "data": {
      "text/plain": [
       "array(['DO221124 - primary tumour'], dtype=object)"
      ]
     },
     "execution_count": 33,
     "metadata": {},
     "output_type": "execute_result"
    }
   ],
   "source": [
    "ds4.ca['Sample']"
   ]
  },
  {
   "cell_type": "code",
   "execution_count": 34,
   "metadata": {},
   "outputs": [
    {
     "data": {
      "text/plain": [
       "array(['TSPAN6', 'TNMD', 'DPM1'], dtype=object)"
      ]
     },
     "execution_count": 34,
     "metadata": {},
     "output_type": "execute_result"
    }
   ],
   "source": [
    "ds4.ra['GeneName'][:3]"
   ]
  },
  {
   "cell_type": "markdown",
   "metadata": {},
   "source": [
    "### Continuous signal data\n",
    "The `continuous` RNA data type is designed to return a value for every base in a range.  This is used for browser tracks and types of epigenomic data.  This is a parallel endpoint to `expression`."
   ]
  },
  {
   "cell_type": "code",
   "execution_count": 35,
   "metadata": {},
   "outputs": [
    {
     "data": {
      "text/plain": [
       "{'tags': ['cancer'],\n",
       " 'version': '1.0',\n",
       " 'fileType': 'loom',\n",
       " 'studyID': '6cccbbd76b9c4837bd7342dd616d0fec',\n",
       " 'units': 'counts',\n",
       " 'url': '/woldlab/castor/home/sau/public_html/rnaget/signal-query-results.loom',\n",
       " 'id': 'fa057c6d18c44960a1b8b49d065b3889'}"
      ]
     },
     "execution_count": 35,
     "metadata": {},
     "output_type": "execute_result"
    }
   ],
   "source": [
    "payload = {\"studyID\": pcawg_study_id,\n",
    "           \"format\": \"loom\"}\n",
    "r = requests.get(\"{}/continuous/tickets\".format(rnaget_params['rnaget_url']), params=payload,\n",
    "                 headers=rnaget_params['headers'])\n",
    "r.json()"
   ]
  },
  {
   "cell_type": "code",
   "execution_count": null,
   "metadata": {},
   "outputs": [],
   "source": []
  }
 ],
 "metadata": {
  "kernelspec": {
   "display_name": "Python 3",
   "language": "python",
   "name": "python3"
  },
  "language_info": {
   "codemirror_mode": {
    "name": "ipython",
    "version": 3
   },
   "file_extension": ".py",
   "mimetype": "text/x-python",
   "name": "python",
   "nbconvert_exporter": "python",
   "pygments_lexer": "ipython3",
   "version": "3.6.1"
  }
 },
 "nbformat": 4,
 "nbformat_minor": 2
}
